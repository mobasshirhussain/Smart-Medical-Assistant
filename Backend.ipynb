{
  "cells": [
    {
      "cell_type": "code",
      "execution_count": null,
      "id": "7d019787",
      "metadata": {
        "id": "7d019787"
      },
      "outputs": [],
      "source": [
        "import os\n",
        "import pickle\n",
        "import numpy as np\n",
        "import pandas as pd\n",
        "import matplotlib.pyplot as plt\n",
        "import seaborn as sns\n"
      ]
    },
    {
      "cell_type": "code",
      "execution_count": null,
      "id": "b57a9c8b",
      "metadata": {
        "id": "b57a9c8b"
      },
      "outputs": [],
      "source": [
        "# 2️ LOAD & CLEAN DATA\n",
        "df = pd.read_csv(\"Training.csv\")"
      ]
    },
    {
      "cell_type": "code",
      "execution_count": null,
      "id": "cb71880a",
      "metadata": {
        "id": "cb71880a"
      },
      "outputs": [],
      "source": [
        "df.head()"
      ]
    },
    {
      "cell_type": "code",
      "execution_count": null,
      "id": "4244dd97",
      "metadata": {
        "id": "4244dd97"
      },
      "outputs": [],
      "source": [
        "# Drop extra unnamed column if present\n",
        "df = df.drop(columns=[\"Unnamed: 133\"], errors=\"ignore\")"
      ]
    },
    {
      "cell_type": "code",
      "execution_count": null,
      "id": "e4ec4714",
      "metadata": {
        "id": "e4ec4714"
      },
      "outputs": [],
      "source": [
        "# Remove duplicate rows\n",
        "df = df.drop_duplicates()"
      ]
    },
    {
      "cell_type": "code",
      "execution_count": null,
      "id": "e540d636",
      "metadata": {
        "id": "e540d636"
      },
      "outputs": [],
      "source": [
        "# Replace missing values with 0 (symptom columns are 0/1)\n",
        "df = df.fillna(0)"
      ]
    },
    {
      "cell_type": "code",
      "execution_count": null,
      "id": "2c99d7ce",
      "metadata": {
        "id": "2c99d7ce"
      },
      "outputs": [],
      "source": [
        "# Strip any extra spaces from column names\n",
        "df.columns = df.columns.str.strip()"
      ]
    },
    {
      "cell_type": "code",
      "execution_count": null,
      "id": "5d31dbeb",
      "metadata": {
        "id": "5d31dbeb"
      },
      "outputs": [],
      "source": [
        "print(f\" Dataset loaded: {df.shape[0]} rows, {df.shape[1]} columns\")"
      ]
    },
    {
      "cell_type": "code",
      "execution_count": null,
      "id": "cc1d7e88",
      "metadata": {
        "id": "cc1d7e88"
      },
      "outputs": [],
      "source": [
        "#  SPLIT FEATURES & TARGET\n",
        "X = df.drop(columns=[\"prognosis\"])\n",
        "y = df[\"prognosis\"]"
      ]
    },
    {
      "cell_type": "code",
      "execution_count": null,
      "id": "55523c6b",
      "metadata": {
        "id": "55523c6b"
      },
      "outputs": [],
      "source": [
        "X"
      ]
    },
    {
      "cell_type": "code",
      "execution_count": null,
      "id": "38566461",
      "metadata": {
        "id": "38566461"
      },
      "outputs": [],
      "source": [
        "y"
      ]
    },
    {
      "cell_type": "code",
      "execution_count": null,
      "id": "e48fa961",
      "metadata": {
        "id": "e48fa961"
      },
      "outputs": [],
      "source": [
        "from sklearn.model_selection import train_test_split\n",
        "from sklearn.preprocessing import LabelEncoder, StandardScaler\n",
        "from sklearn.ensemble import RandomForestClassifier\n",
        "from sklearn.metrics import (\n",
        "    accuracy_score, precision_score, recall_score, f1_score,\n",
        "    classification_report, confusion_matrix\n",
        ")\n",
        "\n",
        "# Plot settings\n",
        "plt.rcParams[\"figure.dpi\"] = 120\n",
        "sns.set_style(\"whitegrid\")"
      ]
    },
    {
      "cell_type": "code",
      "execution_count": null,
      "id": "a4d3f5e5",
      "metadata": {
        "id": "a4d3f5e5"
      },
      "outputs": [],
      "source": [
        "# Encode target labels to integers\n",
        "encoder = LabelEncoder()\n",
        "y_encoded = encoder.fit_transform(y)"
      ]
    },
    {
      "cell_type": "code",
      "execution_count": null,
      "id": "08c506d6",
      "metadata": {
        "id": "08c506d6"
      },
      "outputs": [],
      "source": [
        "# Scale the features (optional but good for some models)\n",
        "scaler = StandardScaler()\n",
        "X_scaled = scaler.fit_transform(X)"
      ]
    },
    {
      "cell_type": "code",
      "execution_count": null,
      "id": "c61c0208",
      "metadata": {
        "id": "c61c0208"
      },
      "outputs": [],
      "source": [
        "# Split into train/test (stratify ensures all diseases are represented)\n",
        "X_train, X_test, y_train, y_test = train_test_split(\n",
        "    X_scaled, y_encoded,\n",
        "    test_size=0.2, random_state=42, stratify=y_encoded\n",
        ")"
      ]
    },
    {
      "cell_type": "code",
      "execution_count": null,
      "id": "59be8728",
      "metadata": {
        "id": "59be8728"
      },
      "outputs": [],
      "source": [
        "print(f\" Train size: {X_train.shape[0]} | Test size: {X_test.shape[0]}\")"
      ]
    },
    {
      "cell_type": "code",
      "execution_count": null,
      "id": "84e44a30",
      "metadata": {
        "id": "84e44a30"
      },
      "outputs": [],
      "source": [
        "#  TRAIN MODEL\n",
        "model = RandomForestClassifier(\n",
        "    n_estimators=300,\n",
        "    random_state=42,\n",
        "    n_jobs=-1\n",
        ")\n",
        "model.fit(X_train, y_train)\n",
        "print(\" Model training complete\")"
      ]
    },
    {
      "cell_type": "code",
      "execution_count": null,
      "id": "4d38ef60",
      "metadata": {
        "id": "4d38ef60"
      },
      "outputs": [],
      "source": [
        "#  EVALUATE MODEL\n",
        "y_pred = model.predict(X_test)\n",
        "\n",
        "acc  = accuracy_score(y_test, y_pred)\n",
        "prec = precision_score(y_test, y_pred, average=\"weighted\", zero_division=0)\n",
        "rec  = recall_score(y_test, y_pred, average=\"weighted\", zero_division=0)\n",
        "f1   = f1_score(y_test, y_pred, average=\"weighted\", zero_division=0)\n",
        "\n",
        "print(\"\\n Model Performance Metrics\")\n",
        "print(f\"Accuracy : {acc:.3f}\")\n",
        "print(f\"Precision: {prec:.3f}\")\n",
        "print(f\"Recall   : {rec:.3f}\")\n",
        "print(f\"F1-score : {f1:.3f}\")\n"
      ]
    },
    {
      "cell_type": "code",
      "execution_count": null,
      "id": "9a838289",
      "metadata": {
        "id": "9a838289"
      },
      "outputs": [],
      "source": [
        "# Detailed per-class report\n",
        "print(\"\\n=== Classification Report ===\")\n",
        "print(classification_report(\n",
        "    y_test, y_pred,\n",
        "    target_names=encoder.classes_,\n",
        "    zero_division=0\n",
        "))"
      ]
    },
    {
      "cell_type": "code",
      "execution_count": null,
      "id": "ea005308",
      "metadata": {
        "id": "ea005308"
      },
      "outputs": [],
      "source": [
        "# Confusion Matrix (Visualization)\n",
        "cm = confusion_matrix(y_test, y_pred)\n",
        "plt.figure(figsize=(9, 7))\n",
        "sns.heatmap(cm, cmap=\"Blues\", cbar=False)\n",
        "plt.title(\"Confusion Matrix\")\n",
        "plt.xlabel(\"Predicted\")\n",
        "plt.ylabel(\"Actual\")\n",
        "plt.tight_layout()\n",
        "plt.show()"
      ]
    },
    {
      "cell_type": "code",
      "execution_count": null,
      "id": "a7575ed5",
      "metadata": {
        "id": "a7575ed5"
      },
      "outputs": [],
      "source": [
        "# Feature Importance (Top 10 Symptoms)\n",
        "importances = pd.Series(model.feature_importances_, index=X.columns)\n",
        "top10 = importances.sort_values(ascending=False).head(10)\n",
        "\n",
        "print(\"\\n🔍 Top 10 Important Symptoms:\")\n",
        "print(top10)\n",
        "\n",
        "plt.figure(figsize=(8, 5))\n",
        "top10.iloc[::-1].plot.barh()\n",
        "plt.title(\"Top 10 Most Important Symptoms\")\n",
        "plt.xlabel(\"Importance\")\n",
        "plt.tight_layout()\n",
        "plt.show()"
      ]
    },
    {
      "cell_type": "code",
      "execution_count": null,
      "id": "89c8dd58",
      "metadata": {
        "id": "89c8dd58"
      },
      "outputs": [],
      "source": [
        "#  SAVE MODEL BUNDLE\n",
        "bundle = {\n",
        "    \"model\": model,\n",
        "    \"encoder\": encoder,\n",
        "    \"scaler\": scaler,\n",
        "    \"feature_names\": X.columns.tolist()\n",
        "}\n",
        "\n",
        "with open(\"medical_model.pkl\", \"wb\") as f:\n",
        "    pickle.dump(bundle, f)\n",
        "\n",
        "print(f\"\\n📦 Model saved to: {os.path.abspath('medical_model.pkl')}\")\n",
        "print(f\"Total classes: {len(encoder.classes_)}\")"
      ]
    },
    {
      "cell_type": "code",
      "execution_count": null,
      "id": "9133c53f",
      "metadata": {
        "id": "9133c53f"
      },
      "outputs": [],
      "source": []
    }
  ],
  "metadata": {
    "kernelspec": {
      "display_name": "Python 3",
      "language": "python",
      "name": "python3"
    },
    "language_info": {
      "codemirror_mode": {
        "name": "ipython",
        "version": 3
      },
      "file_extension": ".py",
      "mimetype": "text/x-python",
      "name": "python",
      "nbconvert_exporter": "python",
      "pygments_lexer": "ipython3",
      "version": "3.11.13"
    },
    "colab": {
      "provenance": []
    }
  },
  "nbformat": 4,
  "nbformat_minor": 5
}